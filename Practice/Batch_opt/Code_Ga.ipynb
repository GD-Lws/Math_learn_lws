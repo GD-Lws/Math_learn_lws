{
 "cells": [
  {
   "cell_type": "code",
   "execution_count": 2,
   "metadata": {},
   "outputs": [],
   "source": [
    "import numpy as np\n",
    "import pandas as pd\n",
    "import copy\n",
    "import matplotlib.pyplot \n",
    "from random import randint"
   ]
  },
  {
   "cell_type": "code",
   "execution_count": 20,
   "metadata": {},
   "outputs": [],
   "source": [
    "data_A_1 = pd.read_csv('dataA1.csv')\n",
    "data_A_2 = pd.read_csv('dataA2.csv')\n",
    "data_A_3 = pd.read_csv('dataA3.csv')\n",
    "data_A_4 = pd.read_csv('dataA4.csv')"
   ]
  },
  {
   "cell_type": "code",
   "execution_count": null,
   "metadata": {},
   "outputs": [],
   "source": []
  },
  {
   "cell_type": "code",
   "execution_count": 13,
   "metadata": {},
   "outputs": [],
   "source": [
    "from random import shuffle\n",
    "\n",
    "def create_random_np(size):\n",
    "    test_mat = np.zeros(size)\n",
    "    for i in range(0, size):\n",
    "        test_mat[i] = i + 1\n",
    "    shuffle(test_mat)\n",
    "    return test_mat"
   ]
  },
  {
   "cell_type": "code",
   "execution_count": 19,
   "metadata": {},
   "outputs": [
    {
     "data": {
      "text/plain": [
       "0.0"
      ]
     },
     "execution_count": 19,
     "metadata": {},
     "output_type": "execute_result"
    }
   ],
   "source": [
    "test_np = np.zeros([2,100])\n",
    "test_np[1][3]"
   ]
  },
  {
   "cell_type": "code",
   "execution_count": null,
   "metadata": {},
   "outputs": [],
   "source": [
    "# def GA_Crossing(population_num, population, Pc):\n",
    "#     index_p = create_random_np(population_num)\n",
    "#     num = population_num/2\n",
    "#     c3 = np.zeros([2,num])\n",
    "#     pool = [];\n",
    "#     newPops = population;\n",
    "#     for kj in range(1, num):\n",
    "#         c3[1][kj] = index_p(2*kj-1);\n",
    "#         c3[2][kj] = index_p(2*kj);\n",
    "#     rd=rand(1,num);\n",
    "#     for kj = 1:num\n",
    "#         if rd(kj)<Pc\n",
    "#             pool=[pool,c3(:,kj)]\n",
    "#     %%判断配对池每一对个体的随机数是否小于交叉概率Pc,若小于，保存到“产子池pool”\n",
    "#     pool_num=size(pool,2);\n",
    "#     for kj=1:pool_num\n",
    "#         c1=population(pool(1,kj),:);\n",
    "#         c2=population(pool(2,kj),:);\n",
    "#         [new_c1,new_c2]=MyCross(c1,c2);\n",
    "#         newPops(pool(1,kj),:)=new_c1;\n",
    "#         newPops(pool(2,kj),:)=new_c2;\n",
    "#     end"
   ]
  },
  {
   "cell_type": "code",
   "execution_count": null,
   "metadata": {},
   "outputs": [],
   "source": []
  }
 ],
 "metadata": {
  "kernelspec": {
   "display_name": "Python 3.7.11 ('pytorch')",
   "language": "python",
   "name": "python3"
  },
  "language_info": {
   "codemirror_mode": {
    "name": "ipython",
    "version": 3
   },
   "file_extension": ".py",
   "mimetype": "text/x-python",
   "name": "python",
   "nbconvert_exporter": "python",
   "pygments_lexer": "ipython3",
   "version": "3.7.11"
  },
  "orig_nbformat": 4,
  "vscode": {
   "interpreter": {
    "hash": "0747f93ff6db21b2db2bf35ad4858dd0825b9c21797c41b4cc32097944ab3f10"
   }
  }
 },
 "nbformat": 4,
 "nbformat_minor": 2
}
