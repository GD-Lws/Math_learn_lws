{
 "cells": [
  {
   "cell_type": "code",
   "execution_count": 3,
   "metadata": {},
   "outputs": [],
   "source": [
    "import matplotlib.pyplot as plt\n",
    "import pandas as pd"
   ]
  },
  {
   "cell_type": "code",
   "execution_count": 28,
   "metadata": {},
   "outputs": [],
   "source": [
    "data_input = pd.read_csv('cut_program_A1.csv')"
   ]
  },
  {
   "cell_type": "code",
   "execution_count": 29,
   "metadata": {},
   "outputs": [
    {
     "data": {
      "text/html": [
       "<div>\n",
       "<style scoped>\n",
       "    .dataframe tbody tr th:only-of-type {\n",
       "        vertical-align: middle;\n",
       "    }\n",
       "\n",
       "    .dataframe tbody tr th {\n",
       "        vertical-align: top;\n",
       "    }\n",
       "\n",
       "    .dataframe thead th {\n",
       "        text-align: right;\n",
       "    }\n",
       "</style>\n",
       "<table border=\"1\" class=\"dataframe\">\n",
       "  <thead>\n",
       "    <tr style=\"text-align: right;\">\n",
       "      <th></th>\n",
       "      <th>mat</th>\n",
       "      <th>plate_num</th>\n",
       "      <th>item_id</th>\n",
       "      <th>x_coor</th>\n",
       "      <th>y_coor</th>\n",
       "      <th>x_length</th>\n",
       "      <th>y_length</th>\n",
       "    </tr>\n",
       "  </thead>\n",
       "  <tbody>\n",
       "    <tr>\n",
       "      <th>0</th>\n",
       "      <td>YW10-0218S</td>\n",
       "      <td>1</td>\n",
       "      <td>493.0</td>\n",
       "      <td>0.0</td>\n",
       "      <td>0.0</td>\n",
       "      <td>2098.0</td>\n",
       "      <td>580.0</td>\n",
       "    </tr>\n",
       "    <tr>\n",
       "      <th>1</th>\n",
       "      <td>YW10-0219S</td>\n",
       "      <td>1</td>\n",
       "      <td>681.0</td>\n",
       "      <td>0.0</td>\n",
       "      <td>580.0</td>\n",
       "      <td>2098.0</td>\n",
       "      <td>580.0</td>\n",
       "    </tr>\n",
       "    <tr>\n",
       "      <th>2</th>\n",
       "      <td>YW10-0220S</td>\n",
       "      <td>1</td>\n",
       "      <td>537.0</td>\n",
       "      <td>0.0</td>\n",
       "      <td>1160.0</td>\n",
       "      <td>2098.0</td>\n",
       "      <td>58.0</td>\n",
       "    </tr>\n",
       "    <tr>\n",
       "      <th>3</th>\n",
       "      <td>YW10-0221S</td>\n",
       "      <td>1</td>\n",
       "      <td>632.0</td>\n",
       "      <td>2098.0</td>\n",
       "      <td>0.0</td>\n",
       "      <td>258.0</td>\n",
       "      <td>798.0</td>\n",
       "    </tr>\n",
       "    <tr>\n",
       "      <th>4</th>\n",
       "      <td>YW10-0222S</td>\n",
       "      <td>1</td>\n",
       "      <td>103.0</td>\n",
       "      <td>2098.0</td>\n",
       "      <td>798.0</td>\n",
       "      <td>255.5</td>\n",
       "      <td>419.8</td>\n",
       "    </tr>\n",
       "  </tbody>\n",
       "</table>\n",
       "</div>"
      ],
      "text/plain": [
       "          mat  plate_num  item_id  x_coor  y_coor  x_length  y_length\n",
       "0  YW10-0218S          1    493.0     0.0     0.0    2098.0     580.0\n",
       "1  YW10-0219S          1    681.0     0.0   580.0    2098.0     580.0\n",
       "2  YW10-0220S          1    537.0     0.0  1160.0    2098.0      58.0\n",
       "3  YW10-0221S          1    632.0  2098.0     0.0     258.0     798.0\n",
       "4  YW10-0222S          1    103.0  2098.0   798.0     255.5     419.8"
      ]
     },
     "execution_count": 29,
     "metadata": {},
     "output_type": "execute_result"
    }
   ],
   "source": [
    "data_input.head()"
   ]
  },
  {
   "cell_type": "code",
   "execution_count": 30,
   "metadata": {},
   "outputs": [
    {
     "name": "stdout",
     "output_type": "stream",
     "text": [
      "<class 'pandas.core.frame.DataFrame'>\n",
      "RangeIndex: 752 entries, 0 to 751\n",
      "Data columns (total 7 columns):\n",
      " #   Column     Non-Null Count  Dtype  \n",
      "---  ------     --------------  -----  \n",
      " 0   mat        752 non-null    object \n",
      " 1   plate_num  752 non-null    int64  \n",
      " 2   item_id    752 non-null    float64\n",
      " 3   x_coor     752 non-null    float64\n",
      " 4   y_coor     752 non-null    float64\n",
      " 5   x_length   752 non-null    float64\n",
      " 6   y_length   752 non-null    float64\n",
      "dtypes: float64(5), int64(1), object(1)\n",
      "memory usage: 41.2+ KB\n"
     ]
    }
   ],
   "source": [
    "data_input.info()"
   ]
  },
  {
   "cell_type": "code",
   "execution_count": 31,
   "metadata": {},
   "outputs": [],
   "source": [
    "def get_cmap(n, name='hsv'):\n",
    "    return plt.cm.get_cmap(name, n)"
   ]
  },
  {
   "cell_type": "code",
   "execution_count": 32,
   "metadata": {},
   "outputs": [],
   "source": [
    "data_plate_group = data_input.groupby('plate_num')\n",
    "end_index = data_input['plate_num'][len(data_input) - 1]"
   ]
  },
  {
   "cell_type": "code",
   "execution_count": 33,
   "metadata": {},
   "outputs": [
    {
     "data": {
      "text/plain": [
       "493.0"
      ]
     },
     "execution_count": 33,
     "metadata": {},
     "output_type": "execute_result"
    }
   ],
   "source": [
    "Test_rec = data_plate_group.get_group(1)\n",
    "Test_len = len(Test_rec)\n",
    "Test_rec['item_id'][0]"
   ]
  },
  {
   "cell_type": "code",
   "execution_count": 40,
   "metadata": {},
   "outputs": [],
   "source": [
    "def plant_one_plate(plate_data, plate_num):\n",
    "    cmap = get_cmap(Test_len)\n",
    "    fig = plt.figure()\n",
    "    ax_1 = fig.add_subplot(111)  # 创建子图\n",
    "    plt.xlim(0, 2890)\n",
    "    plt.ylim(0, 1230)\n",
    "    plt.plot([2440, 2440], [0, 1220], linewidth=1, color='black')\n",
    "    plt.plot([0, 2440], [1220, 1220], linewidth=1, color='black')\n",
    "    for i in range(0, plate_num):\n",
    "        item_id = str(int(plate_data['item_id'][i]))\n",
    "        item_x = plate_data['x_coor'][i]\n",
    "        item_y = plate_data['y_coor'][i]\n",
    "        item_x_length = plate_data['x_length'][i]\n",
    "        item_y_length = plate_data['y_length'][i]\n",
    "        plt.text(item_x + item_x_length / 2, item_y + item_y_length / 2, item_id)\n",
    "        rect = plt.Rectangle((item_x, item_y), item_x_length, item_y_length, color=cmap(i))  # （0.1，0.2）为左下角的坐标，0.4，0.3为宽和高，负数为反方向，红色填充\n",
    "        ax_1.add_patch(rect)"
   ]
  },
  {
   "cell_type": "code",
   "execution_count": 42,
   "metadata": {},
   "outputs": [
    {
     "ename": "SyntaxError",
     "evalue": "unexpected EOF while parsing (CreatorTemp/ipykernel_32632/703887447.py, line 1)",
     "output_type": "error",
     "traceback": [
      "\u001b[1;36m  File \u001b[1;32m\"C:\\Users\\Public\\Documents\\iSkysoft\\CreatorTemp/ipykernel_32632/703887447.py\"\u001b[1;36m, line \u001b[1;32m1\u001b[0m\n\u001b[1;33m    for index in range(752):\u001b[0m\n\u001b[1;37m                            ^\u001b[0m\n\u001b[1;31mSyntaxError\u001b[0m\u001b[1;31m:\u001b[0m unexpected EOF while parsing\n"
     ]
    }
   ],
   "source": [
    "for k in range(752):\n",
    "    Test_rec = data_plate_group.get_group(k)    "
   ]
  },
  {
   "cell_type": "code",
   "execution_count": 41,
   "metadata": {},
   "outputs": [
    {
     "data": {
      "image/png": "[encoded data removed]",
      "text/plain": [
       "<Figure size 432x288 with 1 Axes>"
      ]
     },
     "metadata": {
      "needs_background": "light"
     },
     "output_type": "display_data"
    }
   ],
   "source": [
    "plant_one_plate(Test_rec, Test_len)"
   ]
  }
 ],
 "metadata": {
  "kernelspec": {
   "display_name": "Python 3.7.11 ('pytorch')",
   "language": "python",
   "name": "python3"
  },
  "language_info": {
   "codemirror_mode": {
    "name": "ipython",
    "version": 3
   },
   "file_extension": ".py",
   "mimetype": "text/x-python",
   "name": "python",
   "nbconvert_exporter": "python",
   "pygments_lexer": "ipython3",
   "version": "3.7.11"
  },
  "orig_nbformat": 4,
  "vscode": {
   "interpreter": {
    "hash": "0747f93ff6db21b2db2bf35ad4858dd0825b9c21797c41b4cc32097944ab3f10"
   }
  }
 },
 "nbformat": 4,
 "nbformat_minor": 2
}
