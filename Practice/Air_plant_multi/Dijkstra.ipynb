{
 "cells": [
  {
   "cell_type": "code",
   "execution_count": 11,
   "metadata": {},
   "outputs": [],
   "source": [
    "import numpy as np\n",
    "inf = np.inf"
   ]
  },
  {
   "cell_type": "code",
   "execution_count": 19,
   "metadata": {},
   "outputs": [],
   "source": [
    "def dijkstra(matrix, start_point):\n",
    "    matrix_len = len(matrix)\n",
    "    path_array = [] # 用于保存路径\n",
    "    temp_array = [] # 用于复制\n",
    "    path_array.extend(matrix[start_point])\n",
    "    temp_array.extend(matrix[start_point])\n",
    "    \n",
    "    temp_array[start_point] = inf # 处理过得节点变成inf, 表示不是最小权值的节点\n",
    "    visited = [start_point] # 用于保存处理过得节点\n",
    "    path_parent = [start_point] * matrix_len # 初始父节点都为start_point\n",
    "    \n",
    "    while len(visited) < matrix_len:\n",
    "        i = temp_array.index(min(temp_array)) # 从最近开始寻找\n",
    "        temp_array[i] = inf # 已处理变为inf\n",
    "        path = [str(i)] # 用于画路径\n",
    "        k = i \n",
    "        while path_parent[k] != start_point: # 找该节点的父节点添加到path，直到父节点是start\n",
    "            path.append(str(path_parent[k]))\n",
    "            k = path_parent[k]\n",
    "        path.append(str(start_point))\n",
    "        path.reverse() # path反序产生路径\n",
    "        print(str(i) + ':', '->'.join(path))\n",
    "        visited.append(i) # 该索引已经处理了\n",
    "        for j in range(matrix_len):\n",
    "            if j not in visited:\n",
    "                if path_array[i] + matrix[i][j] < path_array[j]:\n",
    "                    path_array[j] = matrix[i][j] = path_array[i] + matrix[i][j]\n",
    "                    path_parent[j] = i  # 说明父节点是i\n",
    "    return path_array    "
   ]
  },
  {
   "cell_type": "code",
   "execution_count": 21,
   "metadata": {},
   "outputs": [
    {
     "name": "stdout",
     "output_type": "stream",
     "text": [
      "5: 0->5\n",
      "4: 0->4\n",
      "3: 0->5->3\n",
      "1: 0->5->1\n",
      "0: 0->0\n",
      "[0, 35, 45, 35, 25, 10]\n"
     ]
    }
   ],
   "source": [
    "# 领接矩阵\n",
    "a = [[0, 50, inf, 40, 25, 10], [50, 0, 15, 20, inf, 25],\n",
    "     [inf, 15, 0, 10, 20, inf], [40, 20, 10, 0, 10, 25],\n",
    "     [25, inf, 20, 10, 0, 55], [10, 25, inf, 25, 55, 0]]\n",
    "\n",
    "print(dijkstra(a, 0))"
   ]
  }
 ],
 "metadata": {
  "kernelspec": {
   "display_name": "Python 3.7.11 ('pytorch')",
   "language": "python",
   "name": "python3"
  },
  "language_info": {
   "codemirror_mode": {
    "name": "ipython",
    "version": 3
   },
   "file_extension": ".py",
   "mimetype": "text/x-python",
   "name": "python",
   "nbconvert_exporter": "python",
   "pygments_lexer": "ipython3",
   "version": "3.7.11"
  },
  "orig_nbformat": 4,
  "vscode": {
   "interpreter": {
    "hash": "0747f93ff6db21b2db2bf35ad4858dd0825b9c21797c41b4cc32097944ab3f10"
   }
  }
 },
 "nbformat": 4,
 "nbformat_minor": 2
}
