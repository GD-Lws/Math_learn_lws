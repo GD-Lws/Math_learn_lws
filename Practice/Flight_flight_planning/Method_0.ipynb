{
 "cells": [
  {
   "cell_type": "code",
   "execution_count": 19,
   "metadata": {},
   "outputs": [],
   "source": [
    "import pandas as pd\n",
    "import numpy as np\n",
    "from mpl_toolkits import mplot3d\n",
    "import matplotlib.pyplot as plt\n",
    "import networkx as nx\n",
    "from math import sqrt\n",
    "import copy\n",
    "import datetime\n",
    "from plotly.figure_factory import create_gantt"
   ]
  },
  {
   "cell_type": "markdown",
   "metadata": {},
   "source": [
    "# 数据预处理"
   ]
  },
  {
   "cell_type": "code",
   "execution_count": 20,
   "metadata": {},
   "outputs": [],
   "source": [
    "data_a_crew = pd.read_csv('Data_A_Crew.csv')\n",
    "data_a_flight = pd.read_excel('Data_A_Flight.xlsx')\n",
    "\n",
    "data_b_crew = pd.read_csv('Data_B_Crew.csv')\n",
    "data_b_flight = pd.read_csv('Data_B_Flight.csv')\n",
    "\n",
    "Hou_to_minute = 60\n",
    "Day_to_hou = 24\n",
    "Day_to_minute = Day_to_hou * Hou_to_minute\n",
    "\n",
    "Min_CT = 40\n",
    "Max_Blk = 600\n",
    "Max_DP = 720\n",
    "Min_Rest = 660\n",
    "Max_DH = 5\n",
    "Max_TAFB = 14400\n",
    "Max_SuccOn = 4 * Day_to_minute\n",
    "Min_VacDay = 2 * Day_to_minute"
   ]
  },
  {
   "cell_type": "code",
   "execution_count": 21,
   "metadata": {},
   "outputs": [
    {
     "data": {
      "text/html": [
       "<div>\n",
       "<style scoped>\n",
       "    .dataframe tbody tr th:only-of-type {\n",
       "        vertical-align: middle;\n",
       "    }\n",
       "\n",
       "    .dataframe tbody tr th {\n",
       "        vertical-align: top;\n",
       "    }\n",
       "\n",
       "    .dataframe thead th {\n",
       "        text-align: right;\n",
       "    }\n",
       "</style>\n",
       "<table border=\"1\" class=\"dataframe\">\n",
       "  <thead>\n",
       "    <tr style=\"text-align: right;\">\n",
       "      <th></th>\n",
       "      <th>FltNum</th>\n",
       "      <th>DptrDate</th>\n",
       "      <th>DptrTime</th>\n",
       "      <th>DptrStn</th>\n",
       "      <th>ArrvDate</th>\n",
       "      <th>ArrvTime</th>\n",
       "      <th>ArrvStn</th>\n",
       "      <th>Comp</th>\n",
       "    </tr>\n",
       "  </thead>\n",
       "  <tbody>\n",
       "    <tr>\n",
       "      <th>0</th>\n",
       "      <td>FA2</td>\n",
       "      <td>8/12/2021</td>\n",
       "      <td>10:10:00</td>\n",
       "      <td>PGX</td>\n",
       "      <td>8/12/2021</td>\n",
       "      <td>11:40:00</td>\n",
       "      <td>NKX</td>\n",
       "      <td>C1F1</td>\n",
       "    </tr>\n",
       "    <tr>\n",
       "      <th>1</th>\n",
       "      <td>FA3</td>\n",
       "      <td>8/12/2021</td>\n",
       "      <td>10:25:00</td>\n",
       "      <td>PGX</td>\n",
       "      <td>8/12/2021</td>\n",
       "      <td>11:40:00</td>\n",
       "      <td>NKX</td>\n",
       "      <td>C1F1</td>\n",
       "    </tr>\n",
       "    <tr>\n",
       "      <th>2</th>\n",
       "      <td>FA680</td>\n",
       "      <td>8/11/2021</td>\n",
       "      <td>08:00:00</td>\n",
       "      <td>NKX</td>\n",
       "      <td>8/11/2021</td>\n",
       "      <td>09:30:00</td>\n",
       "      <td>PGX</td>\n",
       "      <td>C1F1</td>\n",
       "    </tr>\n",
       "    <tr>\n",
       "      <th>3</th>\n",
       "      <td>FA680</td>\n",
       "      <td>8/12/2021</td>\n",
       "      <td>08:00:00</td>\n",
       "      <td>NKX</td>\n",
       "      <td>8/12/2021</td>\n",
       "      <td>09:30:00</td>\n",
       "      <td>PGX</td>\n",
       "      <td>C1F1</td>\n",
       "    </tr>\n",
       "    <tr>\n",
       "      <th>4</th>\n",
       "      <td>FA680</td>\n",
       "      <td>8/13/2021</td>\n",
       "      <td>08:00:00</td>\n",
       "      <td>NKX</td>\n",
       "      <td>8/13/2021</td>\n",
       "      <td>09:30:00</td>\n",
       "      <td>PGX</td>\n",
       "      <td>C1F1</td>\n",
       "    </tr>\n",
       "  </tbody>\n",
       "</table>\n",
       "</div>"
      ],
      "text/plain": [
       "  FltNum   DptrDate  DptrTime DptrStn   ArrvDate  ArrvTime ArrvStn  Comp\n",
       "0    FA2  8/12/2021  10:10:00     PGX  8/12/2021  11:40:00     NKX  C1F1\n",
       "1    FA3  8/12/2021  10:25:00     PGX  8/12/2021  11:40:00     NKX  C1F1\n",
       "2  FA680  8/11/2021  08:00:00     NKX  8/11/2021  09:30:00     PGX  C1F1\n",
       "3  FA680  8/12/2021  08:00:00     NKX  8/12/2021  09:30:00     PGX  C1F1\n",
       "4  FA680  8/13/2021  08:00:00     NKX  8/13/2021  09:30:00     PGX  C1F1"
      ]
     },
     "execution_count": 21,
     "metadata": {},
     "output_type": "execute_result"
    }
   ],
   "source": [
    "data_a_flight.head()"
   ]
  },
  {
   "cell_type": "code",
   "execution_count": 22,
   "metadata": {},
   "outputs": [],
   "source": [
    "data_a_dptr_date = pd.to_datetime(data_a_flight.DptrDate)\n",
    "data_a_arrv_date = pd.to_datetime(data_a_flight.ArrvDate)\n",
    "\n",
    "data_a_dptr_time = data_a_flight.DptrTime.to_list()\n",
    "data_a_arrv_time = data_a_flight.ArrvTime.to_list()\n"
   ]
  },
  {
   "cell_type": "code",
   "execution_count": 23,
   "metadata": {},
   "outputs": [],
   "source": [
    "def get_the_time_difference_m(data_dptr_date, data_arrv_date, data_dptr_time, data_arrv_time):\n",
    "    date_difference = []\n",
    "    for i in range(len(data_dptr_time)):\n",
    "        dateTimeA = datetime.datetime.combine(data_dptr_date[i], data_dptr_time[i])\n",
    "        dateTimeB = datetime.datetime.combine(data_arrv_date[i], data_arrv_time[i])\n",
    "        dateTime_difference = (dateTimeB - dateTimeA).total_seconds()/60\n",
    "        date_difference.append(dateTime_difference)\n",
    "    return date_difference        "
   ]
  },
  {
   "cell_type": "code",
   "execution_count": 24,
   "metadata": {},
   "outputs": [],
   "source": [
    "data_a_time_difference = get_the_time_difference_m(data_a_dptr_date, data_a_arrv_date, data_a_dptr_time, data_a_arrv_time)"
   ]
  },
  {
   "cell_type": "code",
   "execution_count": 27,
   "metadata": {},
   "outputs": [],
   "source": [
    "data_a_crew_fill =  data_a_crew.fillna(0)"
   ]
  },
  {
   "cell_type": "code",
   "execution_count": 29,
   "metadata": {},
   "outputs": [
    {
     "data": {
      "text/plain": [
       "True"
      ]
     },
     "execution_count": 29,
     "metadata": {},
     "output_type": "execute_result"
    }
   ],
   "source": [
    "data_a_crew_fill.FirstOfficer[0] == 0"
   ]
  },
  {
   "cell_type": "code",
   "execution_count": null,
   "metadata": {},
   "outputs": [],
   "source": []
  },
  {
   "cell_type": "markdown",
   "metadata": {},
   "source": [
    "# 问题一\n",
    "## 优化目标\n",
    "1. 尽可能多航班满主机组配置\n",
    "2. 尽可能少的总体乘机次数\n",
    "3. 尽可能少使用替补资格"
   ]
  },
  {
   "cell_type": "code",
   "execution_count": 48,
   "metadata": {},
   "outputs": [
    {
     "data": {
      "text/plain": [
       "'8/12/2021'"
      ]
     },
     "execution_count": 48,
     "metadata": {},
     "output_type": "execute_result"
    }
   ],
   "source": [
    "def ans_constraint():\n",
    "    "
   ]
  },
  {
   "cell_type": "markdown",
   "metadata": {},
   "source": []
  },
  {
   "cell_type": "code",
   "execution_count": null,
   "metadata": {},
   "outputs": [],
   "source": []
  },
  {
   "cell_type": "code",
   "execution_count": null,
   "metadata": {},
   "outputs": [],
   "source": []
  },
  {
   "cell_type": "code",
   "execution_count": 39,
   "metadata": {},
   "outputs": [],
   "source": [
    "example = [dict(Task=\"Job A\", Start='2009-01-01', Finish='2009-03-30'),\n",
    "      dict(Task=\"Job B\", Start='2009-03-05', Finish='2009-04-15'),\n",
    "      dict(Task=\"Job C\", Start='2009-02-20', Finish='2009-05-30')]"
   ]
  },
  {
   "cell_type": "code",
   "execution_count": 47,
   "metadata": {},
   "outputs": [
    {
     "data": {
      "application/vnd.plotly.v1+json": {
       "config": {
        "plotlyServerURL": "https://plot.ly"
       },
       "data": [
        {
         "fill": "toself",
         "fillcolor": "rgb(255, 127, 14)",
         "hoverinfo": "name",
         "legendgroup": "rgb(255, 127, 14)",
         "mode": "none",
         "name": "Job B",
         "type": "scatter",
         "x": [
          "2009-03-05",
          "2009-04-15",
          "2009-04-15",
          "2009-03-05"
         ],
         "y": [
          0.8,
          0.8,
          1.2,
          1.2
         ]
        },
        {
         "fill": "toself",
         "fillcolor": "rgb(31, 119, 180)",
         "hoverinfo": "name",
         "legendgroup": "rgb(31, 119, 180)",
         "mode": "none",
         "name": "Job A",
         "type": "scatter",
         "x": [
          "2009-01-01",
          "2009-03-30",
          "2009-03-30",
          "2009-01-01"
         ],
         "y": [
          -0.2,
          -0.2,
          0.2,
          0.2
         ]
        },
        {
         "fill": "toself",
         "fillcolor": "rgb(44, 160, 44)",
         "hoverinfo": "name",
         "legendgroup": "rgb(44, 160, 44)",
         "mode": "none",
         "name": "Job C",
         "type": "scatter",
         "x": [
          "2009-02-20",
          "2009-05-30",
          "2009-05-30",
          "2009-02-20"
         ],
         "y": [
          1.8,
          1.8,
          2.2,
          2.2
         ]
        },
        {
         "legendgroup": "rgb(255, 127, 14)",
         "marker": {
          "color": "rgb(255, 127, 14)",
          "opacity": 0,
          "size": 1
         },
         "mode": "markers",
         "name": "",
         "showlegend": false,
         "text": [
          null,
          null
         ],
         "type": "scatter",
         "x": [
          "2009-03-05",
          "2009-04-15"
         ],
         "y": [
          1,
          1
         ]
        },
        {
         "legendgroup": "rgb(31, 119, 180)",
         "marker": {
          "color": "rgb(31, 119, 180)",
          "opacity": 0,
          "size": 1
         },
         "mode": "markers",
         "name": "",
         "showlegend": false,
         "text": [
          null,
          null
         ],
         "type": "scatter",
         "x": [
          "2009-01-01",
          "2009-03-30"
         ],
         "y": [
          0,
          0
         ]
        },
        {
         "legendgroup": "rgb(44, 160, 44)",
         "marker": {
          "color": "rgb(44, 160, 44)",
          "opacity": 0,
          "size": 1
         },
         "mode": "markers",
         "name": "",
         "showlegend": false,
         "text": [
          null,
          null
         ],
         "type": "scatter",
         "x": [
          "2009-02-20",
          "2009-05-30"
         ],
         "y": [
          2,
          2
         ]
        }
       ],
       "layout": {
        "height": 600,
        "hovermode": "closest",
        "showlegend": false,
        "template": {
         "data": {
          "bar": [
           {
            "error_x": {
             "color": "#2a3f5f"
            },
            "error_y": {
             "color": "#2a3f5f"
            },
            "marker": {
             "line": {
              "color": "#E5ECF6",
              "width": 0.5
             },
             "pattern": {
              "fillmode": "overlay",
              "size": 10,
              "solidity": 0.2
             }
            },
            "type": "bar"
           }
          ],
          "barpolar": [
           {
            "marker": {
             "line": {
              "color": "#E5ECF6",
              "width": 0.5
             },
             "pattern": {
              "fillmode": "overlay",
              "size": 10,
              "solidity": 0.2
             }
            },
            "type": "barpolar"
           }
          ],
          "carpet": [
           {
            "aaxis": {
             "endlinecolor": "#2a3f5f",
             "gridcolor": "white",
             "linecolor": "white",
             "minorgridcolor": "white",
             "startlinecolor": "#2a3f5f"
            },
            "baxis": {
             "endlinecolor": "#2a3f5f",
             "gridcolor": "white",
             "linecolor": "white",
             "minorgridcolor": "white",
             "startlinecolor": "#2a3f5f"
            },
            "type": "carpet"
           }
          ],
          "choropleth": [
           {
            "colorbar": {
             "outlinewidth": 0,
             "ticks": ""
            },
            "type": "choropleth"
           }
          ],
          "contour": [
           {
            "colorbar": {
             "outlinewidth": 0,
             "ticks": ""
            },
            "colorscale": [
             [
              0,
              "#0d0887"
             ],
             [
              0.1111111111111111,
              "#46039f"
             ],
             [
              0.2222222222222222,
              "#7201a8"
             ],
             [
              0.3333333333333333,
              "#9c179e"
             ],
             [
              0.4444444444444444,
              "#bd3786"
             ],
             [
              0.5555555555555556,
              "#d8576b"
             ],
             [
              0.6666666666666666,
              "#ed7953"
             ],
             [
              0.7777777777777778,
              "#fb9f3a"
             ],
             [
              0.8888888888888888,
              "#fdca26"
             ],
             [
              1,
              "#f0f921"
             ]
            ],
            "type": "contour"
           }
          ],
          "contourcarpet": [
           {
            "colorbar": {
             "outlinewidth": 0,
             "ticks": ""
            },
            "type": "contourcarpet"
           }
          ],
          "heatmap": [
           {
            "colorbar": {
             "outlinewidth": 0,
             "ticks": ""
            },
            "colorscale": [
             [
              0,
              "#0d0887"
             ],
             [
              0.1111111111111111,
              "#46039f"
             ],
             [
              0.2222222222222222,
              "#7201a8"
             ],
             [
              0.3333333333333333,
              "#9c179e"
             ],
             [
              0.4444444444444444,
              "#bd3786"
             ],
             [
              0.5555555555555556,
              "#d8576b"
             ],
             [
              0.6666666666666666,
              "#ed7953"
             ],
             [
              0.7777777777777778,
              "#fb9f3a"
             ],
             [
              0.8888888888888888,
              "#fdca26"
             ],
             [
              1,
              "#f0f921"
             ]
            ],
            "type": "heatmap"
           }
          ],
          "heatmapgl": [
           {
            "colorbar": {
             "outlinewidth": 0,
             "ticks": ""
            },
            "colorscale": [
             [
              0,
              "#0d0887"
             ],
             [
              0.1111111111111111,
              "#46039f"
             ],
             [
              0.2222222222222222,
              "#7201a8"
             ],
             [
              0.3333333333333333,
              "#9c179e"
             ],
             [
              0.4444444444444444,
              "#bd3786"
             ],
             [
              0.5555555555555556,
              "#d8576b"
             ],
             [
              0.6666666666666666,
              "#ed7953"
             ],
             [
              0.7777777777777778,
              "#fb9f3a"
             ],
             [
              0.8888888888888888,
              "#fdca26"
             ],
             [
              1,
              "#f0f921"
             ]
            ],
            "type": "heatmapgl"
           }
          ],
          "histogram": [
           {
            "marker": {
             "pattern": {
              "fillmode": "overlay",
              "size": 10,
              "solidity": 0.2
             }
            },
            "type": "histogram"
           }
          ],
          "histogram2d": [
           {
            "colorbar": {
             "outlinewidth": 0,
             "ticks": ""
            },
            "colorscale": [
             [
              0,
              "#0d0887"
             ],
             [
              0.1111111111111111,
              "#46039f"
             ],
             [
              0.2222222222222222,
              "#7201a8"
             ],
             [
              0.3333333333333333,
              "#9c179e"
             ],
             [
              0.4444444444444444,
              "#bd3786"
             ],
             [
              0.5555555555555556,
              "#d8576b"
             ],
             [
              0.6666666666666666,
              "#ed7953"
             ],
             [
              0.7777777777777778,
              "#fb9f3a"
             ],
             [
              0.8888888888888888,
              "#fdca26"
             ],
             [
              1,
              "#f0f921"
             ]
            ],
            "type": "histogram2d"
           }
          ],
          "histogram2dcontour": [
           {
            "colorbar": {
             "outlinewidth": 0,
             "ticks": ""
            },
            "colorscale": [
             [
              0,
              "#0d0887"
             ],
             [
              0.1111111111111111,
              "#46039f"
             ],
             [
              0.2222222222222222,
              "#7201a8"
             ],
             [
              0.3333333333333333,
              "#9c179e"
             ],
             [
              0.4444444444444444,
              "#bd3786"
             ],
             [
              0.5555555555555556,
              "#d8576b"
             ],
             [
              0.6666666666666666,
              "#ed7953"
             ],
             [
              0.7777777777777778,
              "#fb9f3a"
             ],
             [
              0.8888888888888888,
              "#fdca26"
             ],
             [
              1,
              "#f0f921"
             ]
            ],
            "type": "histogram2dcontour"
           }
          ],
          "mesh3d": [
           {
            "colorbar": {
             "outlinewidth": 0,
             "ticks": ""
            },
            "type": "mesh3d"
           }
          ],
          "parcoords": [
           {
            "line": {
             "colorbar": {
              "outlinewidth": 0,
              "ticks": ""
             }
            },
            "type": "parcoords"
           }
          ],
          "pie": [
           {
            "automargin": true,
            "type": "pie"
           }
          ],
          "scatter": [
           {
            "fillpattern": {
             "fillmode": "overlay",
             "size": 10,
             "solidity": 0.2
            },
            "type": "scatter"
           }
          ],
          "scatter3d": [
           {
            "line": {
             "colorbar": {
              "outlinewidth": 0,
              "ticks": ""
             }
            },
            "marker": {
             "colorbar": {
              "outlinewidth": 0,
              "ticks": ""
             }
            },
            "type": "scatter3d"
           }
          ],
          "scattercarpet": [
           {
            "marker": {
             "colorbar": {
              "outlinewidth": 0,
              "ticks": ""
             }
            },
            "type": "scattercarpet"
           }
          ],
          "scattergeo": [
           {
            "marker": {
             "colorbar": {
              "outlinewidth": 0,
              "ticks": ""
             }
            },
            "type": "scattergeo"
           }
          ],
          "scattergl": [
           {
            "marker": {
             "colorbar": {
              "outlinewidth": 0,
              "ticks": ""
             }
            },
            "type": "scattergl"
           }
          ],
          "scattermapbox": [
           {
            "marker": {
             "colorbar": {
              "outlinewidth": 0,
              "ticks": ""
             }
            },
            "type": "scattermapbox"
           }
          ],
          "scatterpolar": [
           {
            "marker": {
             "colorbar": {
              "outlinewidth": 0,
              "ticks": ""
             }
            },
            "type": "scatterpolar"
           }
          ],
          "scatterpolargl": [
           {
            "marker": {
             "colorbar": {
              "outlinewidth": 0,
              "ticks": ""
             }
            },
            "type": "scatterpolargl"
           }
          ],
          "scatterternary": [
           {
            "marker": {
             "colorbar": {
              "outlinewidth": 0,
              "ticks": ""
             }
            },
            "type": "scatterternary"
           }
          ],
          "surface": [
           {
            "colorbar": {
             "outlinewidth": 0,
             "ticks": ""
            },
            "colorscale": [
             [
              0,
              "#0d0887"
             ],
             [
              0.1111111111111111,
              "#46039f"
             ],
             [
              0.2222222222222222,
              "#7201a8"
             ],
             [
              0.3333333333333333,
              "#9c179e"
             ],
             [
              0.4444444444444444,
              "#bd3786"
             ],
             [
              0.5555555555555556,
              "#d8576b"
             ],
             [
              0.6666666666666666,
              "#ed7953"
             ],
             [
              0.7777777777777778,
              "#fb9f3a"
             ],
             [
              0.8888888888888888,
              "#fdca26"
             ],
             [
              1,
              "#f0f921"
             ]
            ],
            "type": "surface"
           }
          ],
          "table": [
           {
            "cells": {
             "fill": {
              "color": "#EBF0F8"
             },
             "line": {
              "color": "white"
             }
            },
            "header": {
             "fill": {
              "color": "#C8D4E3"
             },
             "line": {
              "color": "white"
             }
            },
            "type": "table"
           }
          ]
         },
         "layout": {
          "annotationdefaults": {
           "arrowcolor": "#2a3f5f",
           "arrowhead": 0,
           "arrowwidth": 1
          },
          "autotypenumbers": "strict",
          "coloraxis": {
           "colorbar": {
            "outlinewidth": 0,
            "ticks": ""
           }
          },
          "colorscale": {
           "diverging": [
            [
             0,
             "#8e0152"
            ],
            [
             0.1,
             "#c51b7d"
            ],
            [
             0.2,
             "#de77ae"
            ],
            [
             0.3,
             "#f1b6da"
            ],
            [
             0.4,
             "#fde0ef"
            ],
            [
             0.5,
             "#f7f7f7"
            ],
            [
             0.6,
             "#e6f5d0"
            ],
            [
             0.7,
             "#b8e186"
            ],
            [
             0.8,
             "#7fbc41"
            ],
            [
             0.9,
             "#4d9221"
            ],
            [
             1,
             "#276419"
            ]
           ],
           "sequential": [
            [
             0,
             "#0d0887"
            ],
            [
             0.1111111111111111,
             "#46039f"
            ],
            [
             0.2222222222222222,
             "#7201a8"
            ],
            [
             0.3333333333333333,
             "#9c179e"
            ],
            [
             0.4444444444444444,
             "#bd3786"
            ],
            [
             0.5555555555555556,
             "#d8576b"
            ],
            [
             0.6666666666666666,
             "#ed7953"
            ],
            [
             0.7777777777777778,
             "#fb9f3a"
            ],
            [
             0.8888888888888888,
             "#fdca26"
            ],
            [
             1,
             "#f0f921"
            ]
           ],
           "sequentialminus": [
            [
             0,
             "#0d0887"
            ],
            [
             0.1111111111111111,
             "#46039f"
            ],
            [
             0.2222222222222222,
             "#7201a8"
            ],
            [
             0.3333333333333333,
             "#9c179e"
            ],
            [
             0.4444444444444444,
             "#bd3786"
            ],
            [
             0.5555555555555556,
             "#d8576b"
            ],
            [
             0.6666666666666666,
             "#ed7953"
            ],
            [
             0.7777777777777778,
             "#fb9f3a"
            ],
            [
             0.8888888888888888,
             "#fdca26"
            ],
            [
             1,
             "#f0f921"
            ]
           ]
          },
          "colorway": [
           "#636efa",
           "#EF553B",
           "#00cc96",
           "#ab63fa",
           "#FFA15A",
           "#19d3f3",
           "#FF6692",
           "#B6E880",
           "#FF97FF",
           "#FECB52"
          ],
          "font": {
           "color": "#2a3f5f"
          },
          "geo": {
           "bgcolor": "white",
           "lakecolor": "white",
           "landcolor": "#E5ECF6",
           "showlakes": true,
           "showland": true,
           "subunitcolor": "white"
          },
          "hoverlabel": {
           "align": "left"
          },
          "hovermode": "closest",
          "mapbox": {
           "style": "light"
          },
          "paper_bgcolor": "white",
          "plot_bgcolor": "#E5ECF6",
          "polar": {
           "angularaxis": {
            "gridcolor": "white",
            "linecolor": "white",
            "ticks": ""
           },
           "bgcolor": "#E5ECF6",
           "radialaxis": {
            "gridcolor": "white",
            "linecolor": "white",
            "ticks": ""
           }
          },
          "scene": {
           "xaxis": {
            "backgroundcolor": "#E5ECF6",
            "gridcolor": "white",
            "gridwidth": 2,
            "linecolor": "white",
            "showbackground": true,
            "ticks": "",
            "zerolinecolor": "white"
           },
           "yaxis": {
            "backgroundcolor": "#E5ECF6",
            "gridcolor": "white",
            "gridwidth": 2,
            "linecolor": "white",
            "showbackground": true,
            "ticks": "",
            "zerolinecolor": "white"
           },
           "zaxis": {
            "backgroundcolor": "#E5ECF6",
            "gridcolor": "white",
            "gridwidth": 2,
            "linecolor": "white",
            "showbackground": true,
            "ticks": "",
            "zerolinecolor": "white"
           }
          },
          "shapedefaults": {
           "line": {
            "color": "#2a3f5f"
           }
          },
          "ternary": {
           "aaxis": {
            "gridcolor": "white",
            "linecolor": "white",
            "ticks": ""
           },
           "baxis": {
            "gridcolor": "white",
            "linecolor": "white",
            "ticks": ""
           },
           "bgcolor": "#E5ECF6",
           "caxis": {
            "gridcolor": "white",
            "linecolor": "white",
            "ticks": ""
           }
          },
          "title": {
           "x": 0.05
          },
          "xaxis": {
           "automargin": true,
           "gridcolor": "white",
           "linecolor": "white",
           "ticks": "",
           "title": {
            "standoff": 15
           },
           "zerolinecolor": "white",
           "zerolinewidth": 2
          },
          "yaxis": {
           "automargin": true,
           "gridcolor": "white",
           "linecolor": "white",
           "ticks": "",
           "title": {
            "standoff": 15
           },
           "zerolinecolor": "white",
           "zerolinewidth": 2
          }
         }
        },
        "title": {
         "text": "Gantt Chart"
        },
        "xaxis": {
         "rangeselector": {
          "buttons": [
           {
            "count": 7,
            "label": "1w",
            "step": "day",
            "stepmode": "backward"
           },
           {
            "count": 1,
            "label": "1m",
            "step": "month",
            "stepmode": "backward"
           },
           {
            "count": 6,
            "label": "6m",
            "step": "month",
            "stepmode": "backward"
           },
           {
            "count": 1,
            "label": "YTD",
            "step": "year",
            "stepmode": "todate"
           },
           {
            "count": 1,
            "label": "1y",
            "step": "year",
            "stepmode": "backward"
           },
           {
            "step": "all"
           }
          ]
         },
         "showgrid": false,
         "type": "date",
         "zeroline": false
        },
        "yaxis": {
         "autorange": false,
         "range": [
          -1,
          4
         ],
         "showgrid": false,
         "ticktext": [
          "Job A",
          "Job B",
          "Job C"
         ],
         "tickvals": [
          0,
          1,
          2
         ],
         "zeroline": false
        }
       }
      }
     },
     "metadata": {},
     "output_type": "display_data"
    }
   ],
   "source": [
    "fig=create_gantt(example)\n",
    "fig.show()"
   ]
  },
  {
   "cell_type": "code",
   "execution_count": 22,
   "metadata": {},
   "outputs": [
    {
     "data": {
      "text/plain": [
       "['8/12/2021',\n",
       " '8/12/2021',\n",
       " '8/11/2021',\n",
       " '8/12/2021',\n",
       " '8/13/2021',\n",
       " '8/14/2021',\n",
       " '8/15/2021',\n",
       " '8/16/2021',\n",
       " '8/17/2021',\n",
       " '8/18/2021',\n",
       " '8/19/2021',\n",
       " '8/20/2021',\n",
       " '8/21/2021',\n",
       " '8/22/2021',\n",
       " '8/23/2021',\n",
       " '8/24/2021',\n",
       " '8/25/2021',\n",
       " '8/11/2021',\n",
       " '8/12/2021',\n",
       " '8/13/2021',\n",
       " '8/14/2021',\n",
       " '8/15/2021',\n",
       " '8/16/2021',\n",
       " '8/17/2021',\n",
       " '8/18/2021',\n",
       " '8/19/2021',\n",
       " '8/20/2021',\n",
       " '8/21/2021',\n",
       " '8/22/2021',\n",
       " '8/23/2021',\n",
       " '8/24/2021',\n",
       " '8/25/2021',\n",
       " '8/11/2021',\n",
       " '8/12/2021',\n",
       " '8/13/2021',\n",
       " '8/14/2021',\n",
       " '8/15/2021',\n",
       " '8/16/2021',\n",
       " '8/17/2021',\n",
       " '8/18/2021',\n",
       " '8/19/2021',\n",
       " '8/20/2021',\n",
       " '8/21/2021',\n",
       " '8/22/2021',\n",
       " '8/23/2021',\n",
       " '8/24/2021',\n",
       " '8/25/2021',\n",
       " '8/11/2021',\n",
       " '8/12/2021',\n",
       " '8/13/2021',\n",
       " '8/14/2021',\n",
       " '8/15/2021',\n",
       " '8/16/2021',\n",
       " '8/17/2021',\n",
       " '8/18/2021',\n",
       " '8/19/2021',\n",
       " '8/20/2021',\n",
       " '8/21/2021',\n",
       " '8/22/2021',\n",
       " '8/23/2021',\n",
       " '8/24/2021',\n",
       " '8/25/2021',\n",
       " '8/11/2021',\n",
       " '8/12/2021',\n",
       " '8/13/2021',\n",
       " '8/14/2021',\n",
       " '8/15/2021',\n",
       " '8/16/2021',\n",
       " '8/17/2021',\n",
       " '8/18/2021',\n",
       " '8/19/2021',\n",
       " '8/20/2021',\n",
       " '8/21/2021',\n",
       " '8/22/2021',\n",
       " '8/23/2021',\n",
       " '8/24/2021',\n",
       " '8/25/2021',\n",
       " '8/11/2021',\n",
       " '8/12/2021',\n",
       " '8/13/2021',\n",
       " '8/14/2021',\n",
       " '8/15/2021',\n",
       " '8/16/2021',\n",
       " '8/17/2021',\n",
       " '8/18/2021',\n",
       " '8/19/2021',\n",
       " '8/20/2021',\n",
       " '8/21/2021',\n",
       " '8/22/2021',\n",
       " '8/23/2021',\n",
       " '8/24/2021',\n",
       " '8/25/2021',\n",
       " '8/11/2021',\n",
       " '8/12/2021',\n",
       " '8/13/2021',\n",
       " '8/14/2021',\n",
       " '8/15/2021',\n",
       " '8/16/2021',\n",
       " '8/17/2021',\n",
       " '8/18/2021',\n",
       " '8/19/2021',\n",
       " '8/20/2021',\n",
       " '8/21/2021',\n",
       " '8/22/2021',\n",
       " '8/23/2021',\n",
       " '8/24/2021',\n",
       " '8/25/2021',\n",
       " '8/11/2021',\n",
       " '8/12/2021',\n",
       " '8/13/2021',\n",
       " '8/14/2021',\n",
       " '8/15/2021',\n",
       " '8/16/2021',\n",
       " '8/17/2021',\n",
       " '8/18/2021',\n",
       " '8/19/2021',\n",
       " '8/20/2021',\n",
       " '8/21/2021',\n",
       " '8/22/2021',\n",
       " '8/23/2021',\n",
       " '8/24/2021',\n",
       " '8/25/2021',\n",
       " '8/12/2021',\n",
       " '8/13/2021',\n",
       " '8/14/2021',\n",
       " '8/15/2021',\n",
       " '8/16/2021',\n",
       " '8/17/2021',\n",
       " '8/18/2021',\n",
       " '8/19/2021',\n",
       " '8/20/2021',\n",
       " '8/21/2021',\n",
       " '8/22/2021',\n",
       " '8/23/2021',\n",
       " '8/24/2021',\n",
       " '8/25/2021',\n",
       " '8/12/2021',\n",
       " '8/13/2021',\n",
       " '8/14/2021',\n",
       " '8/15/2021',\n",
       " '8/16/2021',\n",
       " '8/17/2021',\n",
       " '8/18/2021',\n",
       " '8/19/2021',\n",
       " '8/20/2021',\n",
       " '8/21/2021',\n",
       " '8/22/2021',\n",
       " '8/23/2021',\n",
       " '8/24/2021',\n",
       " '8/25/2021',\n",
       " '8/11/2021',\n",
       " '8/12/2021',\n",
       " '8/13/2021',\n",
       " '8/14/2021',\n",
       " '8/15/2021',\n",
       " '8/16/2021',\n",
       " '8/17/2021',\n",
       " '8/18/2021',\n",
       " '8/19/2021',\n",
       " '8/20/2021',\n",
       " '8/21/2021',\n",
       " '8/22/2021',\n",
       " '8/23/2021',\n",
       " '8/24/2021',\n",
       " '8/25/2021',\n",
       " '8/11/2021',\n",
       " '8/12/2021',\n",
       " '8/13/2021',\n",
       " '8/14/2021',\n",
       " '8/15/2021',\n",
       " '8/16/2021',\n",
       " '8/17/2021',\n",
       " '8/18/2021',\n",
       " '8/19/2021',\n",
       " '8/20/2021',\n",
       " '8/21/2021',\n",
       " '8/22/2021',\n",
       " '8/23/2021',\n",
       " '8/24/2021',\n",
       " '8/25/2021',\n",
       " '8/18/2021',\n",
       " '8/18/2021',\n",
       " '8/14/2021',\n",
       " '8/16/2021',\n",
       " '8/17/2021',\n",
       " '8/18/2021',\n",
       " '8/19/2021',\n",
       " '8/20/2021',\n",
       " '8/21/2021',\n",
       " '8/22/2021',\n",
       " '8/23/2021',\n",
       " '8/24/2021',\n",
       " '8/25/2021',\n",
       " '8/12/2021',\n",
       " '8/14/2021',\n",
       " '8/15/2021',\n",
       " '8/16/2021',\n",
       " '8/17/2021',\n",
       " '8/18/2021',\n",
       " '8/19/2021',\n",
       " '8/20/2021',\n",
       " '8/21/2021',\n",
       " '8/22/2021',\n",
       " '8/23/2021',\n",
       " '8/24/2021',\n",
       " '8/25/2021']"
      ]
     },
     "execution_count": 22,
     "metadata": {},
     "output_type": "execute_result"
    }
   ],
   "source": []
  }
 ],
 "metadata": {
  "kernelspec": {
   "display_name": "Python 3.7.11 ('pytorch')",
   "language": "python",
   "name": "python3"
  },
  "language_info": {
   "codemirror_mode": {
    "name": "ipython",
    "version": 3
   },
   "file_extension": ".py",
   "mimetype": "text/x-python",
   "name": "python",
   "nbconvert_exporter": "python",
   "pygments_lexer": "ipython3",
   "version": "3.7.11"
  },
  "orig_nbformat": 4,
  "vscode": {
   "interpreter": {
    "hash": "0747f93ff6db21b2db2bf35ad4858dd0825b9c21797c41b4cc32097944ab3f10"
   }
  }
 },
 "nbformat": 4,
 "nbformat_minor": 2
}
