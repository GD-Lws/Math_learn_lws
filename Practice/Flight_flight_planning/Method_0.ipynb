{
 "cells": [
  {
   "cell_type": "code",
   "execution_count": 16,
   "metadata": {},
   "outputs": [],
   "source": [
    "import pandas as pd\n",
    "import numpy as np\n",
    "from mpl_toolkits import mplot3d\n",
    "import matplotlib.pyplot as plt\n",
    "import networkx as nx\n",
    "from math import sqrt\n",
    "import copy\n",
    "import datetime\n",
    "from plotly.figure_factory import create_gantt"
   ]
  },
  {
   "cell_type": "markdown",
   "metadata": {},
   "source": [
    "# 数据预处理"
   ]
  },
  {
   "cell_type": "code",
   "execution_count": 17,
   "metadata": {},
   "outputs": [],
   "source": [
    "data_a_crew = pd.read_csv('Data_A_Crew.csv')\n",
    "data_a_flight = pd.read_excel('Data_A_Flight.xlsx')\n",
    "\n",
    "data_b_crew = pd.read_csv('Data_B_Crew.csv')\n",
    "data_b_flight = pd.read_csv('Data_B_Flight.csv')\n",
    "\n",
    "Hou_to_minute = 60\n",
    "Day_to_hou = 24\n",
    "Day_to_minute = Day_to_hou * Hou_to_minute\n",
    "\n",
    "Min_CT = 40\n",
    "Max_Blk = 600\n",
    "Max_DP = 720\n",
    "Min_Rest = 660\n",
    "Max_DH = 5\n",
    "Max_TAFB = 14400\n",
    "Max_SuccOn = 4 * Day_to_minute\n",
    "Min_VacDay = 2 * Day_to_minute"
   ]
  },
  {
   "cell_type": "code",
   "execution_count": 18,
   "metadata": {},
   "outputs": [
    {
     "data": {
      "text/html": [
       "<div>\n",
       "<style scoped>\n",
       "    .dataframe tbody tr th:only-of-type {\n",
       "        vertical-align: middle;\n",
       "    }\n",
       "\n",
       "    .dataframe tbody tr th {\n",
       "        vertical-align: top;\n",
       "    }\n",
       "\n",
       "    .dataframe thead th {\n",
       "        text-align: right;\n",
       "    }\n",
       "</style>\n",
       "<table border=\"1\" class=\"dataframe\">\n",
       "  <thead>\n",
       "    <tr style=\"text-align: right;\">\n",
       "      <th></th>\n",
       "      <th>FltNum</th>\n",
       "      <th>DptrDate</th>\n",
       "      <th>DptrTime</th>\n",
       "      <th>DptrStn</th>\n",
       "      <th>ArrvDate</th>\n",
       "      <th>ArrvTime</th>\n",
       "      <th>ArrvStn</th>\n",
       "      <th>Comp</th>\n",
       "    </tr>\n",
       "  </thead>\n",
       "  <tbody>\n",
       "    <tr>\n",
       "      <th>0</th>\n",
       "      <td>FA2</td>\n",
       "      <td>8/12/2021</td>\n",
       "      <td>10:10:00</td>\n",
       "      <td>PGX</td>\n",
       "      <td>8/12/2021</td>\n",
       "      <td>11:40:00</td>\n",
       "      <td>NKX</td>\n",
       "      <td>C1F1</td>\n",
       "    </tr>\n",
       "    <tr>\n",
       "      <th>1</th>\n",
       "      <td>FA3</td>\n",
       "      <td>8/12/2021</td>\n",
       "      <td>10:25:00</td>\n",
       "      <td>PGX</td>\n",
       "      <td>8/12/2021</td>\n",
       "      <td>11:40:00</td>\n",
       "      <td>NKX</td>\n",
       "      <td>C1F1</td>\n",
       "    </tr>\n",
       "    <tr>\n",
       "      <th>2</th>\n",
       "      <td>FA680</td>\n",
       "      <td>8/11/2021</td>\n",
       "      <td>08:00:00</td>\n",
       "      <td>NKX</td>\n",
       "      <td>8/11/2021</td>\n",
       "      <td>09:30:00</td>\n",
       "      <td>PGX</td>\n",
       "      <td>C1F1</td>\n",
       "    </tr>\n",
       "    <tr>\n",
       "      <th>3</th>\n",
       "      <td>FA680</td>\n",
       "      <td>8/12/2021</td>\n",
       "      <td>08:00:00</td>\n",
       "      <td>NKX</td>\n",
       "      <td>8/12/2021</td>\n",
       "      <td>09:30:00</td>\n",
       "      <td>PGX</td>\n",
       "      <td>C1F1</td>\n",
       "    </tr>\n",
       "    <tr>\n",
       "      <th>4</th>\n",
       "      <td>FA680</td>\n",
       "      <td>8/13/2021</td>\n",
       "      <td>08:00:00</td>\n",
       "      <td>NKX</td>\n",
       "      <td>8/13/2021</td>\n",
       "      <td>09:30:00</td>\n",
       "      <td>PGX</td>\n",
       "      <td>C1F1</td>\n",
       "    </tr>\n",
       "  </tbody>\n",
       "</table>\n",
       "</div>"
      ],
      "text/plain": [
       "  FltNum   DptrDate  DptrTime DptrStn   ArrvDate  ArrvTime ArrvStn  Comp\n",
       "0    FA2  8/12/2021  10:10:00     PGX  8/12/2021  11:40:00     NKX  C1F1\n",
       "1    FA3  8/12/2021  10:25:00     PGX  8/12/2021  11:40:00     NKX  C1F1\n",
       "2  FA680  8/11/2021  08:00:00     NKX  8/11/2021  09:30:00     PGX  C1F1\n",
       "3  FA680  8/12/2021  08:00:00     NKX  8/12/2021  09:30:00     PGX  C1F1\n",
       "4  FA680  8/13/2021  08:00:00     NKX  8/13/2021  09:30:00     PGX  C1F1"
      ]
     },
     "execution_count": 18,
     "metadata": {},
     "output_type": "execute_result"
    }
   ],
   "source": [
    "data_a_flight.head()"
   ]
  },
  {
   "cell_type": "code",
   "execution_count": 19,
   "metadata": {},
   "outputs": [],
   "source": [
    "data_a_dptr_date = pd.to_datetime(data_a_flight.DptrDate)\n",
    "data_a_arrv_date = pd.to_datetime(data_a_flight.ArrvDate)\n",
    "\n",
    "data_a_dptr_time = data_a_flight.DptrTime.to_list()\n",
    "data_a_arrv_time = data_a_flight.ArrvTime.to_list()\n"
   ]
  },
  {
   "cell_type": "code",
   "execution_count": 20,
   "metadata": {},
   "outputs": [],
   "source": [
    "def get_time_gap(arrv_index, dptr_index):\n",
    "    arrav_series = data_a_flight.loc[arrv_index]\n",
    "    dptr_series = data_a_flight.loc[dptr_index]\n",
    "    arrav_date_time = datetime.datetime.combine(pd.to_datetime(arrav_series.ArrvDate), arrav_series.ArrvTime)\n",
    "    dptr_date_time = datetime.datetime.combine(pd.to_datetime(dptr_series.DptrDate), dptr_series.DptrTime)\n",
    "    dateTime_difference = (arrav_date_time - dptr_date_time).total_seconds()/60\n",
    "    return dateTime_difference\n",
    "    "
   ]
  },
  {
   "cell_type": "code",
   "execution_count": 21,
   "metadata": {},
   "outputs": [
    {
     "data": {
      "text/plain": [
       "90.0"
      ]
     },
     "execution_count": 21,
     "metadata": {},
     "output_type": "execute_result"
    }
   ],
   "source": [
    "get_time_gap(1,0)"
   ]
  },
  {
   "cell_type": "code",
   "execution_count": 22,
   "metadata": {},
   "outputs": [],
   "source": [
    "def get_the_time_difference_m(data_dptr_date, data_arrv_date, data_dptr_time, data_arrv_time):\n",
    "    date_difference = []\n",
    "    for i in range(len(data_dptr_time)):\n",
    "        dateTimeA = datetime.datetime.combine(data_dptr_date[i], data_dptr_time[i])\n",
    "        dateTimeB = datetime.datetime.combine(data_arrv_date[i], data_arrv_time[i])\n",
    "        dateTime_difference = (dateTimeB - dateTimeA).total_seconds()/60\n",
    "        date_difference.append(dateTime_difference)\n",
    "    return date_difference        "
   ]
  },
  {
   "cell_type": "code",
   "execution_count": 23,
   "metadata": {},
   "outputs": [],
   "source": [
    "data_a_time_difference = get_the_time_difference_m(data_a_dptr_date, data_a_arrv_date, data_a_dptr_time, data_a_arrv_time)"
   ]
  },
  {
   "cell_type": "code",
   "execution_count": 24,
   "metadata": {},
   "outputs": [],
   "source": [
    "data_a_crew_fill =  data_a_crew.fillna(0)"
   ]
  },
  {
   "cell_type": "code",
   "execution_count": 25,
   "metadata": {},
   "outputs": [
    {
     "data": {
      "text/plain": [
       "True"
      ]
     },
     "execution_count": 25,
     "metadata": {},
     "output_type": "execute_result"
    }
   ],
   "source": [
    "data_a_crew_fill.FirstOfficer[0] == 0"
   ]
  },
  {
   "cell_type": "code",
   "execution_count": 26,
   "metadata": {},
   "outputs": [
    {
     "data": {
      "text/html": [
       "<div>\n",
       "<style scoped>\n",
       "    .dataframe tbody tr th:only-of-type {\n",
       "        vertical-align: middle;\n",
       "    }\n",
       "\n",
       "    .dataframe tbody tr th {\n",
       "        vertical-align: top;\n",
       "    }\n",
       "\n",
       "    .dataframe thead th {\n",
       "        text-align: right;\n",
       "    }\n",
       "</style>\n",
       "<table border=\"1\" class=\"dataframe\">\n",
       "  <thead>\n",
       "    <tr style=\"text-align: right;\">\n",
       "      <th></th>\n",
       "      <th>EmpNo</th>\n",
       "      <th>Captain</th>\n",
       "      <th>FirstOfficer</th>\n",
       "      <th>Deadhead</th>\n",
       "      <th>Base</th>\n",
       "      <th>Dut1CostPerHour</th>\n",
       "      <th>ParingCostPerHour</th>\n",
       "    </tr>\n",
       "  </thead>\n",
       "  <tbody>\n",
       "    <tr>\n",
       "      <th>0</th>\n",
       "      <td>A0001</td>\n",
       "      <td>1.0</td>\n",
       "      <td>0.0</td>\n",
       "      <td>1</td>\n",
       "      <td>NKX</td>\n",
       "      <td>680</td>\n",
       "      <td>20</td>\n",
       "    </tr>\n",
       "    <tr>\n",
       "      <th>1</th>\n",
       "      <td>A0002</td>\n",
       "      <td>1.0</td>\n",
       "      <td>0.0</td>\n",
       "      <td>1</td>\n",
       "      <td>NKX</td>\n",
       "      <td>680</td>\n",
       "      <td>20</td>\n",
       "    </tr>\n",
       "    <tr>\n",
       "      <th>2</th>\n",
       "      <td>A0003</td>\n",
       "      <td>1.0</td>\n",
       "      <td>0.0</td>\n",
       "      <td>1</td>\n",
       "      <td>NKX</td>\n",
       "      <td>680</td>\n",
       "      <td>20</td>\n",
       "    </tr>\n",
       "    <tr>\n",
       "      <th>3</th>\n",
       "      <td>A0004</td>\n",
       "      <td>1.0</td>\n",
       "      <td>0.0</td>\n",
       "      <td>1</td>\n",
       "      <td>NKX</td>\n",
       "      <td>680</td>\n",
       "      <td>20</td>\n",
       "    </tr>\n",
       "    <tr>\n",
       "      <th>4</th>\n",
       "      <td>A0005</td>\n",
       "      <td>1.0</td>\n",
       "      <td>1.0</td>\n",
       "      <td>1</td>\n",
       "      <td>NKX</td>\n",
       "      <td>640</td>\n",
       "      <td>20</td>\n",
       "    </tr>\n",
       "  </tbody>\n",
       "</table>\n",
       "</div>"
      ],
      "text/plain": [
       "   EmpNo  Captain  FirstOfficer  Deadhead Base  Dut1CostPerHour  \\\n",
       "0  A0001      1.0           0.0         1  NKX              680   \n",
       "1  A0002      1.0           0.0         1  NKX              680   \n",
       "2  A0003      1.0           0.0         1  NKX              680   \n",
       "3  A0004      1.0           0.0         1  NKX              680   \n",
       "4  A0005      1.0           1.0         1  NKX              640   \n",
       "\n",
       "   ParingCostPerHour  \n",
       "0                 20  \n",
       "1                 20  \n",
       "2                 20  \n",
       "3                 20  \n",
       "4                 20  "
      ]
     },
     "execution_count": 26,
     "metadata": {},
     "output_type": "execute_result"
    }
   ],
   "source": [
    "data_a_crew_fill.head()"
   ]
  },
  {
   "cell_type": "code",
   "execution_count": 41,
   "metadata": {},
   "outputs": [],
   "source": [
    "# data_a_crew_fill.loc[data_a_crew_fill.EmpNo == 'A0001']\n",
    "# test_date_time = data_a_flight.loc[data_a_flight.FltNum == 'FA2']\n",
    "# test_date_ =  test_date_time.Comp.value\n",
    "# test_set = set()\n",
    "# data_test = (1,2,3)\n",
    "# test_set.add(data_test)\n",
    "# data_test = (3, 4, 5)\n",
    "# test_set.add(data_test)"
   ]
  },
  {
   "cell_type": "markdown",
   "metadata": {},
   "source": [
    "# 问题一\n",
    "## 优化目标\n",
    "1. 尽可能多航班满主机组配置\n",
    "2. 尽可能少的总体乘机次数\n",
    "3. 尽可能少使用替补资格"
   ]
  },
  {
   "cell_type": "code",
   "execution_count": 35,
   "metadata": {},
   "outputs": [],
   "source": [
    "Set_crew_only_Captain = set()\n",
    "Set_crew_Captain_FirstOffice = set()\n",
    "Set_crew_FirstOffice = set()\n",
    "Set_Flight = set()\n",
    "\n",
    "Crew_base = \"NKX\"\n",
    "\n",
    "for i in range(len(data_a_crew_fill)):\n",
    "    crew_series = data_a_crew_fill.loc[i]\n",
    "    if crew_series.Captain == 1:\n",
    "        if crew_series.FirstOfficer == 1:\n",
    "            Set_crew_Captain_FirstOffice.add(i)\n",
    "        else:\n",
    "            Set_crew_only_Captain.add(i)\n",
    "    else:\n",
    "        Set_crew_FirstOffice.add(i)\n",
    "for i in range(len(data_a_flight)):\n",
    "    flight_series = data_a_flight.loc[i]\n",
    "    # 出发地为基地，满足配置直接起飞\n",
    "    if flight_series.DptrStn == Crew_base:\n",
    "        if len(Set_crew_only_Captain) != 0:\n",
    "            captain_temp = Set_crew_only_Captain.pop()\n",
    "            if len(Set_crew_FirstOffice) != 0:\n",
    "                firstoffice_temp = Set_crew_FirstOffice.pop()\n",
    "                temp_array = (i, captain_temp, firstoffice_temp)\n",
    "                Set_Flight.add(temp_array)\n",
    "            elif len(Set_crew_Captain_FirstOffice) != 0:\n",
    "                firstoffice_temp = Set_crew_Captain_FirstOffice.pop()\n",
    "                temp_array = (i, captain_temp, firstoffice_temp)\n",
    "                Set_Flight.add(temp_array)\n",
    "            else:\n",
    "                Set_crew_only_Captain.add(captain_temp)\n",
    "        elif len(Set_crew_Captain_FirstOffice) != 0:\n",
    "            captain_temp = Set_crew_Captain_FirstOffice.pop()\n",
    "            if len(Set_crew_FirstOffice) != 0:\n",
    "                firstoffice_temp = Set_crew_FirstOffice.pop()\n",
    "                temp_array = (i, captain_temp, firstoffice_temp)\n",
    "                Set_Flight.add(temp_array)\n",
    "            elif len(Set_crew_Captain_FirstOffice) != 0:\n",
    "                firstoffice_temp = Set_crew_Captain_FirstOffice.pop()\n",
    "                temp_array = (i, captain_temp, firstoffice_temp)\n",
    "                Set_Flight.add(temp_array)\n",
    "            else:\n",
    "                Set_crew_Captain_FirstOffice.add(captain_temp)\n",
    "    else:\n",
    "        # 目的地为基地\n",
    "        if flight_series.ArrvStn == Crew_base:\n",
    "            if len(Set_Flight)\n"
   ]
  },
  {
   "cell_type": "code",
   "execution_count": 12,
   "metadata": {},
   "outputs": [],
   "source": []
  },
  {
   "cell_type": "code",
   "execution_count": 13,
   "metadata": {},
   "outputs": [
    {
     "name": "stdout",
     "output_type": "stream",
     "text": [
      "['NKX' 'NKX' 'NKX' 'NKX' 'NKX' 'NKX' 'NKX' 'NKX' 'NKX' 'NKX' 'NKX' 'NKX'\n",
      " 'NKX' 'NKX' 'NKX']\n"
     ]
    },
    {
     "data": {
      "text/plain": [
       "RangeIndex(start=0, stop=206, step=1)"
      ]
     },
     "execution_count": 13,
     "metadata": {},
     "output_type": "execute_result"
    }
   ],
   "source": []
  },
  {
   "cell_type": "code",
   "execution_count": 56,
   "metadata": {},
   "outputs": [],
   "source": []
  },
  {
   "cell_type": "code",
   "execution_count": null,
   "metadata": {},
   "outputs": [],
   "source": []
  },
  {
   "cell_type": "code",
   "execution_count": null,
   "metadata": {},
   "outputs": [],
   "source": []
  },
  {
   "cell_type": "code",
   "execution_count": null,
   "metadata": {},
   "outputs": [],
   "source": []
  }
 ],
 "metadata": {
  "kernelspec": {
   "display_name": "Python 3.7.11 ('pytorch')",
   "language": "python",
   "name": "python3"
  },
  "language_info": {
   "codemirror_mode": {
    "name": "ipython",
    "version": 3
   },
   "file_extension": ".py",
   "mimetype": "text/x-python",
   "name": "python",
   "nbconvert_exporter": "python",
   "pygments_lexer": "ipython3",
   "version": "3.7.11"
  },
  "orig_nbformat": 4,
  "vscode": {
   "interpreter": {
    "hash": "0747f93ff6db21b2db2bf35ad4858dd0825b9c21797c41b4cc32097944ab3f10"
   }
  }
 },
 "nbformat": 4,
 "nbformat_minor": 2
}
