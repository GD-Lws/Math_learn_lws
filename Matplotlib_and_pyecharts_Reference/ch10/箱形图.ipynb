{
 "cells": [
  {
   "cell_type": "code",
   "execution_count": 1,
   "metadata": {},
   "outputs": [
    {
     "ename": "ModuleNotFoundError",
     "evalue": "No module named 'pyecharts'",
     "output_type": "error",
     "traceback": [
      "\u001b[1;31m---------------------------------------------------------------------------\u001b[0m",
      "\u001b[1;31mModuleNotFoundError\u001b[0m                       Traceback (most recent call last)",
      "\u001b[1;32mC:\\Users\\Public\\Documents\\iSkysoft\\CreatorTemp/ipykernel_38964/1300309084.py\u001b[0m in \u001b[0;36m<module>\u001b[1;34m\u001b[0m\n\u001b[0;32m      2\u001b[0m \u001b[1;33m\u001b[0m\u001b[0m\n\u001b[0;32m      3\u001b[0m \u001b[1;31m#声明Notebook类型，必须在引入pyecharts.charts等模块前声明\u001b[0m\u001b[1;33m\u001b[0m\u001b[1;33m\u001b[0m\u001b[1;33m\u001b[0m\u001b[0m\n\u001b[1;32m----> 4\u001b[1;33m \u001b[1;32mfrom\u001b[0m \u001b[0mpyecharts\u001b[0m\u001b[1;33m.\u001b[0m\u001b[0mglobals\u001b[0m \u001b[1;32mimport\u001b[0m \u001b[0mCurrentConfig\u001b[0m\u001b[1;33m,\u001b[0m \u001b[0mNotebookType\u001b[0m\u001b[1;33m\u001b[0m\u001b[1;33m\u001b[0m\u001b[0m\n\u001b[0m\u001b[0;32m      5\u001b[0m \u001b[0mCurrentConfig\u001b[0m\u001b[1;33m.\u001b[0m\u001b[0mNOTEBOOK_TYPE\u001b[0m \u001b[1;33m=\u001b[0m \u001b[0mNotebookType\u001b[0m\u001b[1;33m.\u001b[0m\u001b[0mJUPYTER_LAB\u001b[0m\u001b[1;33m\u001b[0m\u001b[1;33m\u001b[0m\u001b[0m\n\u001b[0;32m      6\u001b[0m \u001b[1;33m\u001b[0m\u001b[0m\n",
      "\u001b[1;31mModuleNotFoundError\u001b[0m: No module named 'pyecharts'"
     ]
    }
   ],
   "source": [
    "# -*- coding: utf-8 -*-\n",
    "\n",
    "#声明Notebook类型，必须在引入pyecharts.charts等模块前声明\n",
    "from pyecharts.globals import CurrentConfig, NotebookType\n",
    "CurrentConfig.NOTEBOOK_TYPE = NotebookType.JUPYTER_LAB\n",
    "\n",
    "from pyecharts import options as opts\n",
    "from pyecharts.charts import Boxplot, Page\n",
    "from impala.dbapi import connect\n",
    "\n",
    "#提取Hadoop集群数据\n",
    "v1 = []\n",
    "v2 = []\n",
    "v3 = []\n",
    "conn = connect(host='192.168.1.7', port=10000, database='sales',auth_mechanism='NOSASL',user='root')\n",
    "cur = conn.cursor()\n",
    "sql_num = \"SELECT subcategory,ROUND(SUM(sales/10000),2),ROUND(SUM(profit/10000),2) FROM orders WHERE dt=2019 GROUP BY subcategory\"\n",
    "cur.execute(sql_num)\n",
    "sh = cur.fetchall()\n",
    "for s in sh:\n",
    "    v1.append(s[0])\n",
    "    v2.append(s[1])\n",
    "    v3.append(s[2])\n",
    "\n",
    "def boxpolt_base() -> Boxplot:\n",
    "    c = Boxplot()\n",
    "    c.add_xaxis([\"2019年业绩\"]) \\\n",
    "     .add_yaxis(\"销售额\", c.prepare_data([v2])) \\\n",
    "     .add_yaxis(\"利润额\", c.prepare_data([v3])) \\\n",
    "     .set_global_opts(title_opts=opts.TitleOpts(title=\"不同类型商品销售收益分布分析\", subtitle=\"2019年企业经营现状\"),toolbox_opts=opts.ToolboxOpts())\n",
    "    return c\n",
    "\n",
    "#第一次渲染时候调用load_javasrcript文件\n",
    "boxpolt_base().load_javascript()\n",
    "#展示数据可视化图表\n",
    "boxpolt_base().render_notebook()"
   ]
  },
  {
   "cell_type": "code",
   "execution_count": null,
   "metadata": {},
   "outputs": [],
   "source": []
  }
 ],
 "metadata": {
  "kernelspec": {
   "display_name": "Python 3.7.11 ('pytorch')",
   "language": "python",
   "name": "python3"
  },
  "language_info": {
   "codemirror_mode": {
    "name": "ipython",
    "version": 3
   },
   "file_extension": ".py",
   "mimetype": "text/x-python",
   "name": "python",
   "nbconvert_exporter": "python",
   "pygments_lexer": "ipython3",
   "version": "3.7.11"
  },
  "vscode": {
   "interpreter": {
    "hash": "0747f93ff6db21b2db2bf35ad4858dd0825b9c21797c41b4cc32097944ab3f10"
   }
  }
 },
 "nbformat": 4,
 "nbformat_minor": 4
}
